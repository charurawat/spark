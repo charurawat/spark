{
 "cells": [
  {
   "cell_type": "markdown",
   "metadata": {},
   "source": [
    "### DS 6003 - Spark Assignment\n",
    "#### Name: Charu Rawat , Computing ID : cr4zy"
   ]
  },
  {
   "cell_type": "markdown",
   "metadata": {},
   "source": [
    "#### Import necessary modules/packages"
   ]
  },
  {
   "cell_type": "code",
   "execution_count": 1,
   "metadata": {},
   "outputs": [],
   "source": [
    "import pyspark\n",
    "from os import listdir\n",
    "from os.path import isfile, join\n",
    "import boto3\n",
    "import pandas as pd\n",
    "from sagemaker import get_execution_role\n",
    "from pyspark.sql.types import LongType, StringType, StructField, StructType, BooleanType, ArrayType, IntegerType\n",
    "import pyspark.sql.functions as sf"
   ]
  },
  {
   "cell_type": "markdown",
   "metadata": {},
   "source": [
    "#### Initialize the spark environment"
   ]
  },
  {
   "cell_type": "code",
   "execution_count": 2,
   "metadata": {},
   "outputs": [
    {
     "data": {
      "text/html": [
       "\n",
       "        <div>\n",
       "            <p><b>SparkContext</b></p>\n",
       "\n",
       "            <p><a href=\"http://172.16.95.41:4046\">Spark UI</a></p>\n",
       "\n",
       "            <dl>\n",
       "              <dt>Version</dt>\n",
       "                <dd><code>v2.2.1</code></dd>\n",
       "              <dt>Master</dt>\n",
       "                <dd><code>local</code></dd>\n",
       "              <dt>AppName</dt>\n",
       "                <dd><code>odl</code></dd>\n",
       "            </dl>\n",
       "        </div>\n",
       "        "
      ],
      "text/plain": [
       "<SparkContext master=local appName=odl>"
      ]
     },
     "execution_count": 2,
     "metadata": {},
     "output_type": "execute_result"
    }
   ],
   "source": [
    "conf = pyspark.SparkConf().setAppName('odl').setMaster('local')\n",
    "sc = pyspark.SparkContext(conf=conf)\n",
    "sqlc = pyspark.sql.SQLContext(sc)\n",
    "sc"
   ]
  },
  {
   "cell_type": "code",
   "execution_count": 3,
   "metadata": {},
   "outputs": [
    {
     "data": {
      "text/plain": [
       "<pyspark.sql.context.SQLContext at 0x7efbc30c3f98>"
      ]
     },
     "execution_count": 3,
     "metadata": {},
     "output_type": "execute_result"
    }
   ],
   "source": [
    "sqlc"
   ]
  },
  {
   "cell_type": "markdown",
   "metadata": {},
   "source": [
    "#### Read into spark dataframe from csv"
   ]
  },
  {
   "cell_type": "code",
   "execution_count": 4,
   "metadata": {},
   "outputs": [],
   "source": [
    "role = get_execution_role()\n",
    "bucket='odl-spark19spds6003-001'\n",
    "data_key = 'cr4zy/admissions_data.csv'\n",
    "data_location = 's3://{}/{}'.format(bucket, data_key)\n",
    "#pd.read_csv(data_location)"
   ]
  },
  {
   "cell_type": "code",
   "execution_count": 5,
   "metadata": {},
   "outputs": [
    {
     "data": {
      "text/plain": [
       "DataFrame[ID: bigint, GRE: bigint, TOEFL: bigint, UniRating: bigint, SOP: double, LOR: double, CGPA: double, Research: bigint, Admission: double]"
      ]
     },
     "execution_count": 5,
     "metadata": {},
     "output_type": "execute_result"
    }
   ],
   "source": [
    "df = sqlc.createDataFrame(pd.read_csv(data_location))\n",
    "df"
   ]
  },
  {
   "cell_type": "markdown",
   "metadata": {},
   "source": [
    "#### Write parque to s3"
   ]
  },
  {
   "cell_type": "code",
   "execution_count": 6,
   "metadata": {},
   "outputs": [],
   "source": [
    "parquetPath = '/home/ec2-user/SageMaker/cr4zy/parquet_tmp'\n",
    "df.write.parquet(parquetPath)"
   ]
  },
  {
   "cell_type": "code",
   "execution_count": 7,
   "metadata": {},
   "outputs": [],
   "source": [
    "# prep list of files to transfer\n",
    "files = [f for f in listdir(parquetPath) if isfile(join(parquetPath, f))]\n",
    "\n",
    "s3 = boto3.resource('s3')\n",
    "for f in files:\n",
    "    #print('copying {} to {}'.format(parquetPath+'/'+f,\"sample_data/\"+f))\n",
    "    s3.Bucket(bucket).upload_file(parquetPath+'/'+f, \"cr4zy/\"+f)"
   ]
  },
  {
   "cell_type": "markdown",
   "metadata": {},
   "source": [
    "#### Make dataframe from parquet"
   ]
  },
  {
   "cell_type": "code",
   "execution_count": 8,
   "metadata": {},
   "outputs": [
    {
     "data": {
      "text/plain": [
       "DataFrame[ID: bigint, GRE: bigint, TOEFL: bigint, UniRating: bigint, SOP: double, LOR: double, CGPA: double, Research: bigint, Admission: double]"
      ]
     },
     "execution_count": 8,
     "metadata": {},
     "output_type": "execute_result"
    }
   ],
   "source": [
    "# write to spark df\n",
    "df = sqlc.read.parquet(parquetPath)\n",
    "df"
   ]
  },
  {
   "cell_type": "code",
   "execution_count": 9,
   "metadata": {},
   "outputs": [
    {
     "data": {
      "text/plain": [
       "DataFrame[ID: bigint, GRE: bigint, TOEFL: bigint, UniRating: bigint, SOP: double, LOR: double, CGPA: double, Research: bigint, Admission: double]"
      ]
     },
     "metadata": {},
     "output_type": "display_data"
    }
   ],
   "source": [
    "display(df)"
   ]
  },
  {
   "cell_type": "code",
   "execution_count": 10,
   "metadata": {},
   "outputs": [
    {
     "name": "stdout",
     "output_type": "stream",
     "text": [
      "root\n",
      " |-- ID: long (nullable = true)\n",
      " |-- GRE: long (nullable = true)\n",
      " |-- TOEFL: long (nullable = true)\n",
      " |-- UniRating: long (nullable = true)\n",
      " |-- SOP: double (nullable = true)\n",
      " |-- LOR: double (nullable = true)\n",
      " |-- CGPA: double (nullable = true)\n",
      " |-- Research: long (nullable = true)\n",
      " |-- Admission: double (nullable = true)\n",
      "\n"
     ]
    }
   ],
   "source": [
    "df.printSchema()"
   ]
  },
  {
   "cell_type": "markdown",
   "metadata": {},
   "source": [
    "#### Correlation between variables"
   ]
  },
  {
   "cell_type": "code",
   "execution_count": 11,
   "metadata": {},
   "outputs": [
    {
     "name": "stdout",
     "output_type": "stream",
     "text": [
      "Pearson's r(GRE,TOEFL) = 0.8359768030143965\n",
      "Pearson's r(SOP,LOR) = 0.7295925366175839\n",
      "Pearson's r(CGPA,Admission) = 0.8732890993553003\n",
      "Pearson's r(GRE,Admission) = 0.8026104595903504\n",
      "Pearson's r(SOP,Admission) = 0.6757318583886724\n"
     ]
    }
   ],
   "source": [
    "# Dependent variable is Admission (Chance of admit)\n",
    "print(\"Pearson's r(GRE,TOEFL) = {}\".format(df.corr(\"GRE\", \"TOEFL\")))\n",
    "print(\"Pearson's r(SOP,LOR) = {}\".format(df.corr(\"SOP\", \"LOR\")))\n",
    "print(\"Pearson's r(CGPA,Admission) = {}\".format(df.corr(\"CGPA\", \"Admission\")))\n",
    "print(\"Pearson's r(GRE,Admission) = {}\".format(df.corr(\"GRE\", \"Admission\")))\n",
    "print(\"Pearson's r(SOP,Admission) = {}\".format(df.corr(\"SOP\", \"Admission\")))"
   ]
  },
  {
   "cell_type": "markdown",
   "metadata": {},
   "source": [
    "#### Select  features for analysis"
   ]
  },
  {
   "cell_type": "code",
   "execution_count": 12,
   "metadata": {},
   "outputs": [],
   "source": [
    "df = df.select(\"GRE\",\"TOEFL\",\"SOP\",\"LOR\",\"CGPA\",\"Admission\")"
   ]
  },
  {
   "cell_type": "markdown",
   "metadata": {},
   "source": [
    "#### Model Building"
   ]
  },
  {
   "cell_type": "code",
   "execution_count": 13,
   "metadata": {},
   "outputs": [
    {
     "name": "stdout",
     "output_type": "stream",
     "text": [
      "training set N = 252, test set N = 148\n"
     ]
    }
   ],
   "source": [
    "# create train/test sets\n",
    "seed = 42\n",
    "(testDF, trainingDF) = df.randomSplit((0.40, 0.60), seed=seed)\n",
    "print ('training set N = {}, test set N = {}'.format(trainingDF.count(),testDF.count()))"
   ]
  },
  {
   "cell_type": "markdown",
   "metadata": {},
   "source": [
    "#### Vectorization"
   ]
  },
  {
   "cell_type": "code",
   "execution_count": 14,
   "metadata": {},
   "outputs": [],
   "source": [
    "from pyspark.ml.linalg import Vectors, VectorUDT # nb: bad form, done for pedagogy"
   ]
  },
  {
   "cell_type": "code",
   "execution_count": 15,
   "metadata": {},
   "outputs": [
    {
     "name": "stdout",
     "output_type": "stream",
     "text": [
      "DataFrame[Admission: double, GRE: vector, TOEFL: vector, SOP: vector, LOR: vector, CGPA: vector]\n"
     ]
    }
   ],
   "source": [
    "#vectorization\n",
    "# make a user defined function (udf)\n",
    "sqlc.registerFunction(\"oneElementVec\", lambda d: Vectors.dense([d]), returnType=VectorUDT())\n",
    "\n",
    "# vectorize the data frames\n",
    "trainingDF = trainingDF.selectExpr(\"Admission\", \"oneElementVec(GRE) as GRE\",\"oneElementVec(TOEFL) as TOEFL\" ,\n",
    "                                   \"oneElementVec(SOP) as SOP\",\"oneElementVec(LOR) as LOR\",\"oneElementVec(CGPA) as CGPA\"                                  )\n",
    "testDF = testDF.selectExpr(\"Admission\", \"oneElementVec(GRE) as GRE\",\"oneElementVec(TOEFL) as TOEFL\" ,\n",
    "                                   \"oneElementVec(SOP) as SOP\",\"oneElementVec(LOR) as LOR\",\"oneElementVec(CGPA) as CGPA\")\n",
    "print(testDF.orderBy(testDF.Admission.desc()).limit(5))"
   ]
  },
  {
   "cell_type": "code",
   "execution_count": 16,
   "metadata": {},
   "outputs": [],
   "source": [
    "# rename to make ML engine happy\n",
    "trainingDF = trainingDF.withColumnRenamed(\"Admission\", \"label\")\n",
    "testDF = testDF.withColumnRenamed(\"Admission\", \"label\")"
   ]
  },
  {
   "cell_type": "code",
   "execution_count": 17,
   "metadata": {},
   "outputs": [
    {
     "name": "stdout",
     "output_type": "stream",
     "text": [
      "+--------------------+-----+\n",
      "|            features|label|\n",
      "+--------------------+-----+\n",
      "|[295.0,96.0,1.5,2...| 0.47|\n",
      "|[295.0,99.0,2.5,3...| 0.57|\n",
      "|[295.0,101.0,2.5,...| 0.69|\n",
      "+--------------------+-----+\n",
      "only showing top 3 rows\n",
      "\n"
     ]
    }
   ],
   "source": [
    "from pyspark.ml.feature import VectorAssembler\n",
    "vectorAssembler = VectorAssembler(inputCols = ['GRE', 'TOEFL' ,'SOP', 'LOR', 'CGPA'], outputCol = 'features')\n",
    "trainingDF = vectorAssembler.transform(trainingDF)\n",
    "trainingDF = trainingDF.select(['features', 'label'])\n",
    "#trainingDF.show(3)\n",
    "\n",
    "testDF = vectorAssembler.transform(testDF)\n",
    "testDF = testDF.select(['features', 'label'])\n",
    "testDF.show(3)"
   ]
  },
  {
   "cell_type": "markdown",
   "metadata": {},
   "source": [
    "#### Fitting a linear regression model\n",
    "1. Train\n",
    "2. Predict\n",
    "3. Evaluate"
   ]
  },
  {
   "cell_type": "code",
   "execution_count": 18,
   "metadata": {},
   "outputs": [],
   "source": [
    "from pyspark.ml.regression import LinearRegression, LinearRegressionModel\n",
    "\n",
    "lr = LinearRegression()\n",
    "lrModel = lr.fit(trainingDF)"
   ]
  },
  {
   "cell_type": "code",
   "execution_count": 19,
   "metadata": {},
   "outputs": [
    {
     "data": {
      "text/plain": [
       "[Row(features=DenseVector([290.0, 100.0, 1.5, 2.0, 7.56]), label=0.47),\n",
       " Row(features=DenseVector([290.0, 104.0, 2.0, 2.5, 7.46]), label=0.45),\n",
       " Row(features=DenseVector([293.0, 97.0, 2.0, 4.0, 7.8]), label=0.64),\n",
       " Row(features=DenseVector([294.0, 93.0, 1.5, 2.0, 7.36]), label=0.46),\n",
       " Row(features=DenseVector([294.0, 95.0, 1.5, 1.5, 7.64]), label=0.49)]"
      ]
     },
     "execution_count": 19,
     "metadata": {},
     "output_type": "execute_result"
    }
   ],
   "source": [
    "trainingDF.take(5)"
   ]
  },
  {
   "cell_type": "code",
   "execution_count": 20,
   "metadata": {},
   "outputs": [
    {
     "name": "stdout",
     "output_type": "stream",
     "text": [
      "DataFrame[features: vector, label: double, prediction: double]\n"
     ]
    }
   ],
   "source": [
    "# We are now going to transform our test set to get predictions. \n",
    "# It will append a prediction column to testDF in the new dataframe predictionsAndLabelsDF.\n",
    "predictionsAndLabelsDF = lrModel.transform(testDF)\n",
    "print(predictionsAndLabelsDF.orderBy(predictionsAndLabelsDF.label.desc()))"
   ]
  },
  {
   "cell_type": "markdown",
   "metadata": {},
   "source": [
    "#### Visualization of model fit"
   ]
  },
  {
   "cell_type": "code",
   "execution_count": 21,
   "metadata": {},
   "outputs": [
    {
     "data": {
      "text/html": [
       "<div>\n",
       "<style scoped>\n",
       "    .dataframe tbody tr th:only-of-type {\n",
       "        vertical-align: middle;\n",
       "    }\n",
       "\n",
       "    .dataframe tbody tr th {\n",
       "        vertical-align: top;\n",
       "    }\n",
       "\n",
       "    .dataframe thead th {\n",
       "        text-align: right;\n",
       "    }\n",
       "</style>\n",
       "<table border=\"1\" class=\"dataframe\">\n",
       "  <thead>\n",
       "    <tr style=\"text-align: right;\">\n",
       "      <th></th>\n",
       "      <th>features</th>\n",
       "      <th>label</th>\n",
       "      <th>prediction</th>\n",
       "      <th>residuals</th>\n",
       "    </tr>\n",
       "  </thead>\n",
       "  <tbody>\n",
       "    <tr>\n",
       "      <th>0</th>\n",
       "      <td>[295.0, 96.0, 1.5, 2.0, 7.34]</td>\n",
       "      <td>0.47</td>\n",
       "      <td>0.446536</td>\n",
       "      <td>-0.023464</td>\n",
       "    </tr>\n",
       "    <tr>\n",
       "      <th>1</th>\n",
       "      <td>[295.0, 99.0, 2.5, 3.0, 7.65]</td>\n",
       "      <td>0.57</td>\n",
       "      <td>0.522928</td>\n",
       "      <td>-0.047072</td>\n",
       "    </tr>\n",
       "    <tr>\n",
       "      <th>2</th>\n",
       "      <td>[295.0, 101.0, 2.5, 2.0, 7.86]</td>\n",
       "      <td>0.69</td>\n",
       "      <td>0.531845</td>\n",
       "      <td>-0.158155</td>\n",
       "    </tr>\n",
       "    <tr>\n",
       "      <th>3</th>\n",
       "      <td>[296.0, 97.0, 1.5, 2.0, 7.8]</td>\n",
       "      <td>0.49</td>\n",
       "      <td>0.514442</td>\n",
       "      <td>0.024442</td>\n",
       "    </tr>\n",
       "    <tr>\n",
       "      <th>4</th>\n",
       "      <td>[296.0, 99.0, 2.5, 2.5, 8.03]</td>\n",
       "      <td>0.61</td>\n",
       "      <td>0.564261</td>\n",
       "      <td>-0.045739</td>\n",
       "    </tr>\n",
       "  </tbody>\n",
       "</table>\n",
       "</div>"
      ],
      "text/plain": [
       "                         features  label  prediction  residuals\n",
       "0   [295.0, 96.0, 1.5, 2.0, 7.34]   0.47    0.446536  -0.023464\n",
       "1   [295.0, 99.0, 2.5, 3.0, 7.65]   0.57    0.522928  -0.047072\n",
       "2  [295.0, 101.0, 2.5, 2.0, 7.86]   0.69    0.531845  -0.158155\n",
       "3    [296.0, 97.0, 1.5, 2.0, 7.8]   0.49    0.514442   0.024442\n",
       "4   [296.0, 99.0, 2.5, 2.5, 8.03]   0.61    0.564261  -0.045739"
      ]
     },
     "execution_count": 21,
     "metadata": {},
     "output_type": "execute_result"
    }
   ],
   "source": [
    "# calculate residuals\n",
    "predictionsAndLabelsDF = predictionsAndLabelsDF.withColumn('residuals', predictionsAndLabelsDF.prediction-predictionsAndLabelsDF.label)\n",
    "#predictionsAndLabelsDF.show()\n",
    "pdf = predictionsAndLabelsDF.toPandas()\n",
    "pdf.head()"
   ]
  },
  {
   "cell_type": "code",
   "execution_count": 23,
   "metadata": {},
   "outputs": [
    {
     "data": {
      "image/png": "[encoded data removed]",
      "text/plain": [
       "<Figure size 576x360 with 1 Axes>"
      ]
     },
     "metadata": {},
     "output_type": "display_data"
    }
   ],
   "source": [
    "import matplotlib.pyplot as plt\n",
    "\n",
    "x = pdf['prediction']\n",
    "y = pdf['residuals']\n",
    "\n",
    "fig = plt.figure(figsize=(8,5))\n",
    "plt.scatter(x, y, alpha=0.5)\n",
    "# format plots\n",
    "fig.suptitle('Residual vs Fitted Plot', fontsize=12)\n",
    "plt.xlabel('Fitted Values', fontsize=8)\n",
    "plt.ylabel('Residuals', fontsize=8)\n",
    "\n",
    "plt.show()"
   ]
  },
  {
   "cell_type": "markdown",
   "metadata": {},
   "source": [
    "#### Model Evaluation"
   ]
  },
  {
   "cell_type": "code",
   "execution_count": 24,
   "metadata": {},
   "outputs": [
    {
     "name": "stdout",
     "output_type": "stream",
     "text": [
      "labelCol: label column name. (default: label)\n",
      "metricName: metric name in evaluation - one of:\n",
      "                       rmse - root mean squared error (default)\n",
      "                       mse - mean squared error\n",
      "                       r2 - r^2 metric\n",
      "                       mae - mean absolute error. (default: rmse)\n",
      "predictionCol: prediction column name. (default: prediction)\n"
     ]
    }
   ],
   "source": [
    "from pyspark.ml.evaluation import RegressionEvaluator\n",
    "eval = RegressionEvaluator()\n",
    "print(eval.explainParams())"
   ]
  },
  {
   "cell_type": "code",
   "execution_count": 25,
   "metadata": {},
   "outputs": [
    {
     "data": {
      "text/plain": [
       "pyspark.ml.evaluation.RegressionEvaluator"
      ]
     },
     "execution_count": 25,
     "metadata": {},
     "output_type": "execute_result"
    }
   ],
   "source": [
    "type(eval)"
   ]
  },
  {
   "cell_type": "code",
   "execution_count": 26,
   "metadata": {},
   "outputs": [
    {
     "name": "stdout",
     "output_type": "stream",
     "text": [
      "RMSE: 0.0643891\n",
      "R-Square: 0.762574\n",
      "Mean Square Error: 0.00414595\n"
     ]
    }
   ],
   "source": [
    "print(\"RMSE: %g\" % eval.setMetricName(\"rmse\").evaluate(predictionsAndLabelsDF))\n",
    "print(\"R-Square: %g\" %  eval.setMetricName(\"r2\").evaluate(predictionsAndLabelsDF))\n",
    "print(\"Mean Square Error: %g\" % eval.setMetricName(\"mse\").evaluate(predictionsAndLabelsDF))"
   ]
  }
 ],
 "metadata": {
  "kernelspec": {
   "display_name": "conda_python3",
   "language": "python",
   "name": "conda_python3"
  },
  "language_info": {
   "codemirror_mode": {
    "name": "ipython",
    "version": 3
   },
   "file_extension": ".py",
   "mimetype": "text/x-python",
   "name": "python",
   "nbconvert_exporter": "python",
   "pygments_lexer": "ipython3",
   "version": "3.6.5"
  }
 },
 "nbformat": 4,
 "nbformat_minor": 2
}
